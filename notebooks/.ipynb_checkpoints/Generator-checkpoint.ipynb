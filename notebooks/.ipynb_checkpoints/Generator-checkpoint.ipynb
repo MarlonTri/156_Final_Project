{
 "cells": [
  {
   "cell_type": "code",
   "execution_count": 1,
   "metadata": {
    "scrolled": true
   },
   "outputs": [
    {
     "name": "stderr",
     "output_type": "stream",
     "text": [
      "Using TensorFlow backend.\n"
     ]
    },
    {
     "data": {
      "text/html": [
       "<style>.container { width:90% !important; }</style>"
      ],
      "text/plain": [
       "<IPython.core.display.HTML object>"
      ]
     },
     "metadata": {},
     "output_type": "display_data"
    }
   ],
   "source": [
    "import sys\n",
    "import csv\n",
    "import numpy as np\n",
    "import matplotlib.pyplot as plt\n",
    "import time\n",
    "from tensorflow.keras.losses import MeanAbsolutePercentageError as MAPE\n",
    "from random import choice,random\n",
    "import tensorflow as tf\n",
    "from pprint import pformat,pprint\n",
    "import keras\n",
    "import pickle\n",
    "from keras import layers, models, regularizers, backend, utils\n",
    "import keras.backend.tensorflow_backend as tfback\n",
    "from IPython.display import display, clear_output\n",
    "from sklearn.model_selection import train_test_split\n",
    "from sklearn.linear_model import LinearRegression,LogisticRegression,Ridge\n",
    "\n",
    "\n",
    "from IPython.core.display import display, HTML\n",
    "display(HTML(\"<style>.container { width:90% !important; }</style>\"))"
   ]
  },
  {
   "cell_type": "code",
   "execution_count": 2,
   "metadata": {},
   "outputs": [
    {
     "data": {
      "text/plain": [
       "[PhysicalDevice(name='/physical_device:GPU:0', device_type='GPU')]"
      ]
     },
     "execution_count": 2,
     "metadata": {},
     "output_type": "execute_result"
    }
   ],
   "source": [
    "tf.config.experimental.list_physical_devices('GPU')"
   ]
  },
  {
   "cell_type": "code",
   "execution_count": 3,
   "metadata": {},
   "outputs": [],
   "source": [
    "TEST_RATIO = 0.2\n",
    "REPEAT = 1\n",
    "activations = [\"sigmoid\",\"relu\"]\n",
    "OPTIONS = {\"first_lay\" : [5,6,7,8,9],\n",
    "           \"second_lay\":[5,6,7,8,9,10],\n",
    "           \"third_lay\" : [5,6,7,8,9],\n",
    "           \"drop_amt\":[0,0.05,0.1,0.15,0.2],\n",
    "           \"act\": activations,\n",
    "           \"hyper\":[0,0.003,0.01,0.03,0.1],\n",
    "           \"batch\":[128,256,500,1000,2000,8000,20000]\n",
    "          }\n",
    "\n",
    "class option(object):\n",
    "    def __init__(self):\n",
    "        self.first_lay = 2**(choice(OPTIONS[\"first_lay\"]))\n",
    "        self.second_lay = 2**(choice(OPTIONS[\"second_lay\"]))\n",
    "        self.third_lay = 2**(choice(OPTIONS[\"third_lay\"]))\n",
    "        self.drop_amt = choice(OPTIONS[\"drop_amt\"])\n",
    "        self.act =  choice(OPTIONS[\"act\"])\n",
    "        self.hyper = choice(OPTIONS[\"hyper\"])\n",
    "        self.batch = choice(OPTIONS[\"batch\"])\n",
    "    def __str__(self):\n",
    "        return pformat(self.__dict__)\n",
    "    def get_sim(self):\n",
    "        x = option()\n",
    "        x.__dict__ = dict(self.__dict__)\n",
    "        pick = choice(list(x.__dict__.keys()))\n",
    "        x.__dict__[pick]=choice(OPTIONS[pick])\n",
    "        if \"lay\" in pick:\n",
    "            x.__dict__[pick] = 2**x.__dict__[pick]\n",
    "        return x\n",
    "        \n",
    "K = keras.backend"
   ]
  },
  {
   "cell_type": "code",
   "execution_count": 4,
   "metadata": {},
   "outputs": [],
   "source": [
    "mape = MAPE()\n",
    "\n",
    "files = [\"/notebooks/WECs_DataSet/Sydney_Data.csv\"]\n",
    "csvfile = open(files[0])\n",
    "reader = csv.reader(csvfile, delimiter = ',')\n",
    "rows = [[float(v) for v in row] for row in reader]\n",
    "rows = np.asarray(rows, dtype='float32')"
   ]
  },
  {
   "cell_type": "code",
   "execution_count": 5,
   "metadata": {
    "scrolled": false
   },
   "outputs": [
    {
     "name": "stdout",
     "output_type": "stream",
     "text": [
      "(57600, 32) (57600, 17)\n"
     ]
    }
   ],
   "source": [
    "xs = rows[:,0:32]\n",
    "ys = rows[:,32:49]\n",
    "ys = ys / np.max(ys)\n",
    "xs = xs / np.max(xs)\n",
    "xs_train, xs_test, ys_train, ys_test = train_test_split(xs,ys,test_size = TEST_RATIO)\n",
    "\n",
    "if REPEAT>1:#randomize indices of data...didnt help so much\n",
    "    xs_train = np.reshape(xs_train,(57600,16,2))\n",
    "    final_train = np.zeros((0,16,2))\n",
    "    for _ in range(REPEAT):\n",
    "        hold = np.take(xs_train,np.random.permutation(16),axis=1)\n",
    "        final_train = np.concatenate([final_train,hold])\n",
    "    ys_train = np.tile(ys_train.transpose(),REPEAT).transpose()\n",
    "    xs_train = np.reshape(final_train,(57600*REPEAT,32))\n",
    "print(xs_train.shape,ys_train.shape)"
   ]
  },
  {
   "cell_type": "code",
   "execution_count": 6,
   "metadata": {},
   "outputs": [],
   "source": [
    "\n",
    "def test_options(opt):\n",
    "    def custom_loss(y_true,y_pred):\n",
    "      return K.mean(K.square(y_pred - y_true), axis=-1) + opt.hyper * K.mean(K.square(K.sum(y_pred[:,0:16], axis=1) - y_pred[:,16]), axis=-1)\n",
    "\n",
    "    model = models.Sequential()\n",
    "    model.add(layers.Dense(opt.first_lay, input_dim=32, activation = opt.act))\n",
    "    model.add(layers.Dropout(opt.drop_amt))\n",
    "    model.add(layers.Dense(opt.second_lay, activation = opt.act))\n",
    "    model.add(layers.Dense(opt.third_lay, activation = opt.act))\n",
    "    model.add(layers.Dense(17, activation = 'linear'))\n",
    "    callback = tf.keras.callbacks.EarlyStopping(monitor='loss', patience=50)\n",
    "\n",
    "    model.compile(keras.optimizers.Adam(),custom_loss,\n",
    "                  metrics=['mean_absolute_percentage_error'])\n",
    "    #model.summary()\n",
    "    loss_hist = model.fit(xs_train, ys_train, epochs = 10000, shuffle=True,verbose=0,\n",
    "                             validation_data = (xs_test, ys_test), batch_size=opt.batch, callbacks=[callback])\n",
    "    ys_predictions = model.predict(xs_test)\n",
    "    mape = tf.keras.losses.MeanAbsolutePercentageError()\n",
    "    return mape(ys_predictions, ys_test).numpy()"
   ]
  },
  {
   "cell_type": "code",
   "execution_count": null,
   "metadata": {},
   "outputs": [
    {
     "name": "stdout",
     "output_type": "stream",
     "text": [
      "Making from old option {'act': 'relu',\n",
      " 'batch': 500,\n",
      " 'drop_amt': 0.05,\n",
      " 'first_lay': 256,\n",
      " 'hyper': 0.03,\n",
      " 'second_lay': 256,\n",
      " 'third_lay': 128} with score 2.3540475368499756 a new option {'act': 'sigmoid',\n",
      " 'batch': 500,\n",
      " 'drop_amt': 0.05,\n",
      " 'first_lay': 256,\n",
      " 'hyper': 0.03,\n",
      " 'second_lay': 256,\n",
      " 'third_lay': 128}\n"
     ]
    }
   ],
   "source": [
    "while True:\n",
    "    with open(\"list.pickle\",\"rb\") as  f:\n",
    "        lst = pickle.load(f)\n",
    "\n",
    "    #very simple genetic algorithm\n",
    "    new_opt = option()\n",
    "    if random()<0.2:\n",
    "        print(\"picking fresh option:\")\n",
    "        print(f\"FRESH NEW OPTION:{new_opt}\")\n",
    "    else:\n",
    "        old_opt,score = choice(lst[:20])\n",
    "        new_opt = old_opt.get_sim() \n",
    "        print(f\"Making from old option {old_opt} with score {score} a new option {new_opt}\")\n",
    "        \n",
    "    \n",
    "    lst.append((new_opt,test_options(new_opt)))\n",
    "    print(lst[-1][1])\n",
    "    print()\n",
    "    lst = sorted(lst,key = lambda x: x[1])\n",
    "    print(lst[0][1],lst[0][0])\n",
    "    print([x[1] for x in lst])\n",
    "    with open(\"list.pickle\",\"wb\") as f:\n",
    "        pickle.dump(lst,f)\n",
    "        "
   ]
  },
  {
   "cell_type": "code",
   "execution_count": null,
   "metadata": {},
   "outputs": [],
   "source": [
    "for key in OPTIONS.keys():\n",
    "    print(key+\"\\t\",[x.__dict__[key] for x,_ in lst])"
   ]
  },
  {
   "cell_type": "code",
   "execution_count": null,
   "metadata": {},
   "outputs": [],
   "source": [
    "with open(\"list.pickle2\",\"wb\") as f:\n",
    "        if input(\"Are you sure?\")==\"yes\":\n",
    "            pickle.dump([],f) "
   ]
  },
  {
   "cell_type": "code",
   "execution_count": null,
   "metadata": {},
   "outputs": [],
   "source": []
  }
 ],
 "metadata": {
  "kernelspec": {
   "display_name": "Python 3",
   "language": "python",
   "name": "python3"
  },
  "language_info": {
   "codemirror_mode": {
    "name": "ipython",
    "version": 3
   },
   "file_extension": ".py",
   "mimetype": "text/x-python",
   "name": "python",
   "nbconvert_exporter": "python",
   "pygments_lexer": "ipython3",
   "version": "3.6.9"
  }
 },
 "nbformat": 4,
 "nbformat_minor": 2
}
