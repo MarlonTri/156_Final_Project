{
 "cells": [
  {
   "cell_type": "code",
   "execution_count": 1,
   "metadata": {},
   "outputs": [
    {
     "name": "stderr",
     "output_type": "stream",
     "text": [
      "Using TensorFlow backend.\n"
     ]
    },
    {
     "data": {
      "text/html": [
       "<style>.container { width:100% !important; }</style>"
      ],
      "text/plain": [
       "<IPython.core.display.HTML object>"
      ]
     },
     "metadata": {},
     "output_type": "display_data"
    }
   ],
   "source": [
    "import sys\n",
    "import csv\n",
    "import numpy as np\n",
    "import matplotlib.pyplot as plt\n",
    "import time\n",
    "from tensorflow.keras.losses import MeanAbsolutePercentageError as MAPE\n",
    "import tensorflow as tf\n",
    "import pickle\n",
    "import keras\n",
    "from keras import layers, models, regularizers, backend, utils\n",
    "import keras.backend.tensorflow_backend as tfback\n",
    "from IPython.display import display, clear_output\n",
    "from sklearn.model_selection import train_test_split\n",
    "from sklearn.linear_model import LinearRegression,LogisticRegression,Ridge\n",
    "from sklearn.multioutput import MultiOutputRegressor\n"
   ]
  },
  {
   "cell_type": "code",
   "execution_count": 2,
   "metadata": {},
   "outputs": [
    {
     "data": {
      "text/plain": [
       "[PhysicalDevice(name='/physical_device:GPU:0', device_type='GPU')]"
      ]
     },
     "execution_count": 2,
     "metadata": {},
     "output_type": "execute_result"
    }
   ],
   "source": [
    "tf.config.experimental.list_physical_devices('GPU')"
   ]
  },
  {
   "cell_type": "code",
   "execution_count": 3,
   "metadata": {},
   "outputs": [],
   "source": [
    "TEST_RATIO = 0.2"
   ]
  },
  {
   "cell_type": "code",
   "execution_count": 4,
   "metadata": {},
   "outputs": [],
   "source": [
    "mape = MAPE()\n",
    "\n",
    "files = [\"/notebooks/WECs_DataSet/Sydney_Data.csv\"]\n",
    "csvfile = open(files[0])\n",
    "reader = csv.reader(csvfile, delimiter = ',')\n",
    "rows = [[float(v) for v in row] for row in reader]\n",
    "rows = np.asarray(rows, dtype='float32')"
   ]
  },
  {
   "cell_type": "code",
   "execution_count": 5,
   "metadata": {},
   "outputs": [
    {
     "name": "stdout",
     "output_type": "stream",
     "text": [
      "(57600, 32) (57600, 17)\n",
      "(14400, 32) (14400, 17)\n"
     ]
    }
   ],
   "source": [
    "xs = rows[:,0:32]\n",
    "xs = xs / np.max(xs)\n",
    "ys = rows[:,32:49]\n",
    "ys = ys / np.max(ys)\n",
    "xs_train, xs_test, ys_train, ys_test = train_test_split(xs,ys,test_size = TEST_RATIO)\n",
    "print(xs_train.shape,ys_train.shape)\n",
    "print(xs_test.shape,ys_test.shape)"
   ]
  },
  {
   "cell_type": "code",
   "execution_count": null,
   "metadata": {},
   "outputs": [],
   "source": [
    "regression_model = LinearRegression()\n",
    "regression_model.fit(xs_train,ys_train)\n",
    "ys_predict = regression_model.predict(xs_test)\n",
    "mape(ys_test,ys_predict).numpy()"
   ]
  },
  {
   "cell_type": "code",
   "execution_count": null,
   "metadata": {},
   "outputs": [],
   "source": [
    "K = keras.backend\n",
    "\n",
    "hyperparamter_penalty_weight = 0.1\n",
    "\n",
    "def custom_loss(y_true,y_pred):\n",
    "  return K.mean(K.square(y_pred - y_true), axis=-1) + hyperparamter_penalty_weight * K.mean(K.square(K.sum(y_pred[:,0:16], axis=1) - y_pred[:,16]), axis=-1)\n",
    "\n",
    "def penalty(y_true,y_pred):\n",
    "  return 100*K.mean(K.abs(K.sum(y_pred[:,0:16], axis=1) - y_pred[:,16])/K.abs(y_pred[:,16]), axis=-1)\n",
    "\n",
    "inputs = layers.Input(shape=(32,))\n",
    "d1 = layers.Dense(32, activation = 'relu')(inputs)\n",
    "d2 = layers.Dense(64, activation = 'relu')(d1)\n",
    "d3 = layers.Dense(32, activation = 'relu')(d2)\n",
    "outputs = layers.Dense(17, activation = 'linear')(d3)\n",
    "\n",
    "simple_model = models.Model(inputs = inputs, outputs = outputs)\n",
    "simple_model.compile('adam', custom_loss, metrics=['mean_absolute_percentage_error'])\n",
    "simple_model.summary()"
   ]
  },
  {
   "cell_type": "code",
   "execution_count": null,
   "metadata": {},
   "outputs": [],
   "source": [
    "class CustomCallback(keras.callbacks.Callback):\n",
    "    def on_test_end(self, logs = None):\n",
    "        clear_output()\n",
    "\n",
    "loss_hist = simple_model.fit(xs_train, ys_train, epochs = 3000, validation_data = (xs_test, ys_test), batch_size=2000)"
   ]
  },
  {
   "cell_type": "code",
   "execution_count": null,
   "metadata": {},
   "outputs": [],
   "source": [
    "ys_predictions = simple_model.predict(xs_test)\n",
    "mape = tf.keras.losses.MeanAbsolutePercentageError()\n",
    "mape(ys_predictions, ys_test).numpy()"
   ]
  }
 ],
 "metadata": {
  "kernelspec": {
   "display_name": "Python 3",
   "language": "python",
   "name": "python3"
  },
  "language_info": {
   "codemirror_mode": {
    "name": "ipython",
    "version": 3
   },
   "file_extension": ".py",
   "mimetype": "text/x-python",
   "name": "python",
   "nbconvert_exporter": "python",
   "pygments_lexer": "ipython3",
   "version": "3.6.9"
  }
 },
 "nbformat": 4,
 "nbformat_minor": 2
}
